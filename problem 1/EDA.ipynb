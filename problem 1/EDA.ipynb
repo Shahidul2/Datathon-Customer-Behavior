{
 "cells": [
  {
   "cell_type": "code",
   "execution_count": 1,
   "id": "bb971548",
   "metadata": {},
   "outputs": [],
   "source": [
    "import numpy as np\n",
    "import pandas as pd\n",
    "import matplotlib.pyplot as plt\n",
    "import seaborn as sns"
   ]
  },
  {
   "cell_type": "code",
   "execution_count": 2,
   "id": "4d7b49a0",
   "metadata": {},
   "outputs": [],
   "source": [
    "box = pd.read_csv(r'C:\\Users\\Admin\\Desktop\\Datathon\\Problem 1\\boxes.csv')\n",
    "purchase = pd.read_csv(r'C:\\Users\\Admin\\Desktop\\Datathon\\Problem 1\\purchase.csv')"
   ]
  },
  {
   "cell_type": "code",
   "execution_count": 3,
   "id": "4315b790",
   "metadata": {},
   "outputs": [
    {
     "data": {
      "text/plain": [
       "BOX_ID             0\n",
       "QUALITY            0\n",
       "DELIVERY_OPTION    0\n",
       "MILK               0\n",
       "MEAT               0\n",
       "UNIT_PRICE         0\n",
       "dtype: int64"
      ]
     },
     "execution_count": 3,
     "metadata": {},
     "output_type": "execute_result"
    }
   ],
   "source": [
    "box.isnull().sum()"
   ]
  },
  {
   "cell_type": "code",
   "execution_count": 4,
   "id": "33fcc0e1",
   "metadata": {},
   "outputs": [
    {
     "data": {
      "text/plain": [
       "77"
      ]
     },
     "execution_count": 4,
     "metadata": {},
     "output_type": "execute_result"
    }
   ],
   "source": [
    "purchase.duplicated().sum()"
   ]
  },
  {
   "cell_type": "code",
   "execution_count": 5,
   "id": "e9a13cf8",
   "metadata": {},
   "outputs": [
    {
     "data": {
      "text/plain": [
       "0"
      ]
     },
     "execution_count": 5,
     "metadata": {},
     "output_type": "execute_result"
    }
   ],
   "source": [
    "box.duplicated().sum()"
   ]
  },
  {
   "cell_type": "code",
   "execution_count": 6,
   "id": "e5a7ef78",
   "metadata": {},
   "outputs": [
    {
     "data": {
      "text/plain": [
       "PURCHASE_DATE     0\n",
       "MAGIC_KEY         0\n",
       "BOX_ID           47\n",
       "BOX_COUNT        47\n",
       "dtype: int64"
      ]
     },
     "execution_count": 6,
     "metadata": {},
     "output_type": "execute_result"
    }
   ],
   "source": [
    "purchase.isnull().sum()"
   ]
  },
  {
   "cell_type": "code",
   "execution_count": 7,
   "id": "8e0d5a2e",
   "metadata": {},
   "outputs": [],
   "source": [
    "purchase.dropna(subset=['BOX_ID', 'BOX_COUNT'], inplace=True)\n",
    "\n",
    "# Convert PURCHASE_DATE to datetime\n",
    "purchase['PURCHASE_DATE'] = pd.to_datetime(purchase['PURCHASE_DATE'], format='%d/%m/%Y')\n",
    "\n",
    "# Convert BOX_ID to integer\n",
    "purchase['BOX_ID'] = purchase['BOX_ID'].astype('int32')\n",
    "\n",
    "# Convert BOX_COUNT to integer\n",
    "purchase['BOX_COUNT'] = purchase['BOX_COUNT'].astype('int32')\n",
    "\n",
    "box['BOX_ID'] = box['BOX_ID'].astype('int32')\n",
    "\n",
    "box = box.drop_duplicates()\n",
    "purchase = purchase.drop_duplicates()"
   ]
  },
  {
   "cell_type": "code",
   "execution_count": 8,
   "id": "8ee6bfed",
   "metadata": {},
   "outputs": [
    {
     "data": {
      "text/html": [
       "<div>\n",
       "<style scoped>\n",
       "    .dataframe tbody tr th:only-of-type {\n",
       "        vertical-align: middle;\n",
       "    }\n",
       "\n",
       "    .dataframe tbody tr th {\n",
       "        vertical-align: top;\n",
       "    }\n",
       "\n",
       "    .dataframe thead th {\n",
       "        text-align: right;\n",
       "    }\n",
       "</style>\n",
       "<table border=\"1\" class=\"dataframe\">\n",
       "  <thead>\n",
       "    <tr style=\"text-align: right;\">\n",
       "      <th></th>\n",
       "      <th>BOX_ID</th>\n",
       "      <th>QUALITY</th>\n",
       "      <th>DELIVERY_OPTION</th>\n",
       "      <th>MILK</th>\n",
       "      <th>MEAT</th>\n",
       "      <th>UNIT_PRICE</th>\n",
       "      <th>PURCHASE_DATE</th>\n",
       "      <th>MAGIC_KEY</th>\n",
       "      <th>BOX_COUNT</th>\n",
       "    </tr>\n",
       "  </thead>\n",
       "  <tbody>\n",
       "    <tr>\n",
       "      <th>0</th>\n",
       "      <td>1</td>\n",
       "      <td>Premium</td>\n",
       "      <td>Home Delivery - CoD</td>\n",
       "      <td>0.0</td>\n",
       "      <td>2.7</td>\n",
       "      <td>9.96</td>\n",
       "      <td>2019-02-04</td>\n",
       "      <td>2C88D36D1FC</td>\n",
       "      <td>1</td>\n",
       "    </tr>\n",
       "    <tr>\n",
       "      <th>1</th>\n",
       "      <td>2</td>\n",
       "      <td>Premium</td>\n",
       "      <td>Home Delivery - CoD</td>\n",
       "      <td>0.0</td>\n",
       "      <td>2.3</td>\n",
       "      <td>11.96</td>\n",
       "      <td>2019-01-02</td>\n",
       "      <td>2BF011BDB38</td>\n",
       "      <td>1</td>\n",
       "    </tr>\n",
       "    <tr>\n",
       "      <th>2</th>\n",
       "      <td>2</td>\n",
       "      <td>Premium</td>\n",
       "      <td>Home Delivery - CoD</td>\n",
       "      <td>0.0</td>\n",
       "      <td>2.3</td>\n",
       "      <td>11.96</td>\n",
       "      <td>2019-01-02</td>\n",
       "      <td>2CA0EE8F2B3</td>\n",
       "      <td>1</td>\n",
       "    </tr>\n",
       "    <tr>\n",
       "      <th>3</th>\n",
       "      <td>2</td>\n",
       "      <td>Premium</td>\n",
       "      <td>Home Delivery - CoD</td>\n",
       "      <td>0.0</td>\n",
       "      <td>2.3</td>\n",
       "      <td>11.96</td>\n",
       "      <td>2019-01-02</td>\n",
       "      <td>2C623730B09</td>\n",
       "      <td>1</td>\n",
       "    </tr>\n",
       "    <tr>\n",
       "      <th>4</th>\n",
       "      <td>2</td>\n",
       "      <td>Premium</td>\n",
       "      <td>Home Delivery - CoD</td>\n",
       "      <td>0.0</td>\n",
       "      <td>2.3</td>\n",
       "      <td>11.96</td>\n",
       "      <td>2019-01-02</td>\n",
       "      <td>2CA6CE1054F</td>\n",
       "      <td>1</td>\n",
       "    </tr>\n",
       "  </tbody>\n",
       "</table>\n",
       "</div>"
      ],
      "text/plain": [
       "   BOX_ID  QUALITY      DELIVERY_OPTION  MILK  MEAT  UNIT_PRICE PURCHASE_DATE  \\\n",
       "0       1  Premium  Home Delivery - CoD   0.0   2.7        9.96    2019-02-04   \n",
       "1       2  Premium  Home Delivery - CoD   0.0   2.3       11.96    2019-01-02   \n",
       "2       2  Premium  Home Delivery - CoD   0.0   2.3       11.96    2019-01-02   \n",
       "3       2  Premium  Home Delivery - CoD   0.0   2.3       11.96    2019-01-02   \n",
       "4       2  Premium  Home Delivery - CoD   0.0   2.3       11.96    2019-01-02   \n",
       "\n",
       "     MAGIC_KEY  BOX_COUNT  \n",
       "0  2C88D36D1FC          1  \n",
       "1  2BF011BDB38          1  \n",
       "2  2CA0EE8F2B3          1  \n",
       "3  2C623730B09          1  \n",
       "4  2CA6CE1054F          1  "
      ]
     },
     "execution_count": 8,
     "metadata": {},
     "output_type": "execute_result"
    }
   ],
   "source": [
    "df = pd.merge(box, purchase, how='inner')\n",
    "df.head()"
   ]
  },
  {
   "cell_type": "code",
   "execution_count": 10,
   "id": "259f86c4",
   "metadata": {},
   "outputs": [
    {
     "name": "stdout",
     "output_type": "stream",
     "text": [
      "<class 'pandas.core.frame.DataFrame'>\n",
      "RangeIndex: 2455723 entries, 0 to 2455722\n",
      "Data columns (total 9 columns):\n",
      " #   Column           Dtype         \n",
      "---  ------           -----         \n",
      " 0   BOX_ID           int32         \n",
      " 1   QUALITY          object        \n",
      " 2   DELIVERY_OPTION  object        \n",
      " 3   MILK             float64       \n",
      " 4   MEAT             float64       \n",
      " 5   UNIT_PRICE       float64       \n",
      " 6   PURCHASE_DATE    datetime64[ns]\n",
      " 7   MAGIC_KEY        object        \n",
      " 8   BOX_COUNT        int32         \n",
      "dtypes: datetime64[ns](1), float64(3), int32(2), object(3)\n",
      "memory usage: 149.9+ MB\n"
     ]
    }
   ],
   "source": [
    "df.info()"
   ]
  },
  {
   "cell_type": "code",
   "execution_count": 11,
   "id": "fb371dd7",
   "metadata": {},
   "outputs": [],
   "source": [
    "# Filter the data for February 2019\n",
    "filtered_df = df[(df['PURCHASE_DATE'] >= '2019-02-01') & (df['PURCHASE_DATE'] <= '2019-02-28')]\n",
    "\n",
    "# Calculate the sum of the 'MEAT' column\n",
    "total_meat_sales = filtered_df['MEAT'].sum()"
   ]
  },
  {
   "cell_type": "code",
   "execution_count": 12,
   "id": "9aff6c2b",
   "metadata": {},
   "outputs": [
    {
     "name": "stdout",
     "output_type": "stream",
     "text": [
      "1269193.2999999996\n"
     ]
    }
   ],
   "source": [
    "print(total_meat_sales)"
   ]
  },
  {
   "cell_type": "code",
   "execution_count": 13,
   "id": "f8ee1063",
   "metadata": {},
   "outputs": [],
   "source": [
    "# Calculate the total sales amount per transaction\n",
    "df['MEAT_SALES_AMOUNT'] = df['MEAT'] * df['UNIT_PRICE']\n",
    "\n",
    "# Group by month and sum the sales amounts\n",
    "monthly_sales = df.resample('M', on='PURCHASE_DATE')['MEAT_SALES_AMOUNT'].sum()\n",
    "\n",
    "# Calculate the month-on-month growth rates\n",
    "monthly_growth = monthly_sales.pct_change()\n",
    "\n",
    "# Average of these growth rates\n",
    "average_growth_percentage = monthly_growth.mean() * 100  # Convert to percentage"
   ]
  },
  {
   "cell_type": "code",
   "execution_count": 14,
   "id": "f4536337",
   "metadata": {},
   "outputs": [
    {
     "name": "stdout",
     "output_type": "stream",
     "text": [
      "10.066026501004755\n"
     ]
    }
   ],
   "source": [
    "print(average_growth_percentage)"
   ]
  },
  {
   "cell_type": "code",
   "execution_count": 15,
   "id": "fddf8be9",
   "metadata": {},
   "outputs": [
    {
     "name": "stderr",
     "output_type": "stream",
     "text": [
      "C:\\Users\\Admin\\AppData\\Local\\Temp\\ipykernel_18212\\4102417941.py:5: SettingWithCopyWarning: \n",
      "A value is trying to be set on a copy of a slice from a DataFrame.\n",
      "Try using .loc[row_indexer,col_indexer] = value instead\n",
      "\n",
      "See the caveats in the documentation: https://pandas.pydata.org/pandas-docs/stable/user_guide/indexing.html#returning-a-view-versus-a-copy\n",
      "  jan_19_df['MILK_SALES_AMOUNT'] = jan_19_df['MILK'] * jan_19_df['UNIT_PRICE']\n"
     ]
    }
   ],
   "source": [
    "# Filter for January 2019\n",
    "jan_19_df = df[(df['PURCHASE_DATE'] >= '2019-01-01') & (df['PURCHASE_DATE'] <= '2019-01-31')]\n",
    "\n",
    "# Calculate the milk sales amount per transaction\n",
    "jan_19_df['MILK_SALES_AMOUNT'] = jan_19_df['MILK'] * jan_19_df['UNIT_PRICE']\n",
    "\n",
    "# Group by day of the week (0=Monday, 6=Sunday)\n",
    "daily_avg_milk_sales = jan_19_df.groupby(jan_19_df['PURCHASE_DATE'].dt.dayofweek)['MILK_SALES_AMOUNT'].mean()\n",
    "\n",
    "# Get the averages for Sunday (6) and Tuesday (2)\n",
    "avg_sunday_sales = daily_avg_milk_sales.get(6, 0)  # Default to 0 if no sales\n",
    "avg_tuesday_sales = daily_avg_milk_sales.get(2, 0)  # Default to 0 if no sales\n",
    "\n",
    "# Calculate the difference\n",
    "difference = avg_sunday_sales - avg_tuesday_sales"
   ]
  },
  {
   "cell_type": "code",
   "execution_count": 16,
   "id": "c60f267d",
   "metadata": {},
   "outputs": [
    {
     "name": "stdout",
     "output_type": "stream",
     "text": [
      "-0.046212941855998224\n"
     ]
    }
   ],
   "source": [
    "print(difference)"
   ]
  },
  {
   "cell_type": "code",
   "execution_count": 17,
   "id": "1e965b06",
   "metadata": {},
   "outputs": [],
   "source": [
    "# Filter for November 2018 and quality 'Premium'\n",
    "nov_18_premium_df = df[(df['PURCHASE_DATE'] >= '2018-11-01') & \n",
    "                       (df['PURCHASE_DATE'] <= '2018-11-30') &\n",
    "                       (df['QUALITY'] == 'Premium')]\n",
    "\n",
    "# Group by BOX_ID and sum BOX_COUNT\n",
    "box_sales = nov_18_premium_df.groupby('BOX_ID')['BOX_COUNT'].sum()\n",
    "\n",
    "# Find the BOX_ID with the highest sales\n",
    "top_selling_box_id = box_sales.idxmax()\n",
    "top_selling_sales_count = box_sales.max()"
   ]
  },
  {
   "cell_type": "code",
   "execution_count": 18,
   "id": "2ac72f56",
   "metadata": {},
   "outputs": [
    {
     "name": "stdout",
     "output_type": "stream",
     "text": [
      "163\n"
     ]
    }
   ],
   "source": [
    "print(top_selling_box_id)"
   ]
  },
  {
   "cell_type": "code",
   "execution_count": 19,
   "id": "4a6cba20",
   "metadata": {},
   "outputs": [],
   "source": [
    "# Filter for December 2018\n",
    "dec_18_df = df[(df['PURCHASE_DATE'] >= '2018-12-01') & (df['PURCHASE_DATE'] <= '2018-12-31')]\n",
    "\n",
    "# Group by BOX_ID and sum BOX_COUNT\n",
    "box_sales = dec_18_df.groupby('BOX_ID')['BOX_COUNT'].sum()\n",
    "\n",
    "# Sort the sales descending and get the index of the third highest\n",
    "third_highest_box_id = box_sales.sort_values(ascending=False).index[2]  # Indexing is zero-based\n",
    "\n",
    "# Get the unit price for the third highest sold box\n",
    "# Assuming unit price is constant for each box id across the dataset\n",
    "third_highest_unit_price = dec_18_df[dec_18_df['BOX_ID'] == third_highest_box_id]['UNIT_PRICE'].iloc[0]"
   ]
  },
  {
   "cell_type": "code",
   "execution_count": 20,
   "id": "1b135126",
   "metadata": {},
   "outputs": [
    {
     "name": "stdout",
     "output_type": "stream",
     "text": [
      "15.96\n"
     ]
    }
   ],
   "source": [
    "print(third_highest_unit_price)"
   ]
  },
  {
   "cell_type": "code",
   "execution_count": null,
   "id": "cd989ce3",
   "metadata": {},
   "outputs": [],
   "source": []
  }
 ],
 "metadata": {
  "kernelspec": {
   "display_name": "Python 3 (ipykernel)",
   "language": "python",
   "name": "python3"
  },
  "language_info": {
   "codemirror_mode": {
    "name": "ipython",
    "version": 3
   },
   "file_extension": ".py",
   "mimetype": "text/x-python",
   "name": "python",
   "nbconvert_exporter": "python",
   "pygments_lexer": "ipython3",
   "version": "3.9.15"
  }
 },
 "nbformat": 4,
 "nbformat_minor": 5
}
