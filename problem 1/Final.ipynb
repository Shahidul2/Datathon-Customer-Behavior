{
 "cells": [
  {
   "cell_type": "markdown",
   "id": "8a62f6c9",
   "metadata": {},
   "source": [
    "Importing Basic Libraries"
   ]
  },
  {
   "cell_type": "code",
   "execution_count": 1,
   "id": "94077ce3",
   "metadata": {},
   "outputs": [],
   "source": [
    "import numpy as np\n",
    "import pandas as pd\n",
    "import matplotlib.pyplot as plt\n",
    "import seaborn as sns"
   ]
  },
  {
   "cell_type": "markdown",
   "id": "8078858f",
   "metadata": {},
   "source": [
    "Reading Files"
   ]
  },
  {
   "cell_type": "code",
   "execution_count": 2,
   "id": "e6d9a65a",
   "metadata": {},
   "outputs": [],
   "source": [
    "box = pd.read_csv(r'C:\\Users\\Admin\\Desktop\\Datathon\\Problem 1\\boxes.csv')\n",
    "purchase= pd.read_csv(r'C:\\Users\\Admin\\Desktop\\Datathon\\Problem 1\\purchase.csv')"
   ]
  },
  {
   "cell_type": "markdown",
   "id": "13e11e83",
   "metadata": {},
   "source": [
    "Dropping duplicates, changing datatypes properly"
   ]
  },
  {
   "cell_type": "code",
   "execution_count": 3,
   "id": "c55c7c5e",
   "metadata": {},
   "outputs": [],
   "source": [
    "purchase.dropna(subset=['BOX_ID', 'BOX_COUNT'], inplace=True)\n",
    "\n",
    "# Convert PURCHASE_DATE to datetime\n",
    "purchase['PURCHASE_DATE'] = pd.to_datetime(purchase['PURCHASE_DATE'], format='%d/%m/%Y')\n",
    "\n",
    "# Convert BOX_ID to integer\n",
    "purchase['BOX_ID'] = purchase['BOX_ID'].astype('int32')\n",
    "\n",
    "# Convert BOX_COUNT to integer\n",
    "purchase['BOX_COUNT'] = purchase['BOX_COUNT'].astype('int32')\n",
    "\n",
    "box['BOX_ID'] = box['BOX_ID'].astype('int32')\n",
    "\n",
    "box = box.drop_duplicates()\n",
    "purchase = purchase.drop_duplicates()"
   ]
  },
  {
   "cell_type": "code",
   "execution_count": 4,
   "id": "56b86130",
   "metadata": {},
   "outputs": [
    {
     "data": {
      "text/html": [
       "<div>\n",
       "<style scoped>\n",
       "    .dataframe tbody tr th:only-of-type {\n",
       "        vertical-align: middle;\n",
       "    }\n",
       "\n",
       "    .dataframe tbody tr th {\n",
       "        vertical-align: top;\n",
       "    }\n",
       "\n",
       "    .dataframe thead th {\n",
       "        text-align: right;\n",
       "    }\n",
       "</style>\n",
       "<table border=\"1\" class=\"dataframe\">\n",
       "  <thead>\n",
       "    <tr style=\"text-align: right;\">\n",
       "      <th></th>\n",
       "      <th>BOX_ID</th>\n",
       "      <th>QUALITY</th>\n",
       "      <th>DELIVERY_OPTION</th>\n",
       "      <th>MILK</th>\n",
       "      <th>MEAT</th>\n",
       "      <th>UNIT_PRICE</th>\n",
       "      <th>PURCHASE_DATE</th>\n",
       "      <th>MAGIC_KEY</th>\n",
       "      <th>BOX_COUNT</th>\n",
       "    </tr>\n",
       "  </thead>\n",
       "  <tbody>\n",
       "    <tr>\n",
       "      <th>0</th>\n",
       "      <td>1</td>\n",
       "      <td>Premium</td>\n",
       "      <td>Home Delivery - CoD</td>\n",
       "      <td>0.0</td>\n",
       "      <td>2.7</td>\n",
       "      <td>9.96</td>\n",
       "      <td>2019-02-04</td>\n",
       "      <td>2C88D36D1FC</td>\n",
       "      <td>1</td>\n",
       "    </tr>\n",
       "    <tr>\n",
       "      <th>1</th>\n",
       "      <td>2</td>\n",
       "      <td>Premium</td>\n",
       "      <td>Home Delivery - CoD</td>\n",
       "      <td>0.0</td>\n",
       "      <td>2.3</td>\n",
       "      <td>11.96</td>\n",
       "      <td>2019-01-02</td>\n",
       "      <td>2BF011BDB38</td>\n",
       "      <td>1</td>\n",
       "    </tr>\n",
       "    <tr>\n",
       "      <th>2</th>\n",
       "      <td>2</td>\n",
       "      <td>Premium</td>\n",
       "      <td>Home Delivery - CoD</td>\n",
       "      <td>0.0</td>\n",
       "      <td>2.3</td>\n",
       "      <td>11.96</td>\n",
       "      <td>2019-01-02</td>\n",
       "      <td>2CA0EE8F2B3</td>\n",
       "      <td>1</td>\n",
       "    </tr>\n",
       "    <tr>\n",
       "      <th>3</th>\n",
       "      <td>2</td>\n",
       "      <td>Premium</td>\n",
       "      <td>Home Delivery - CoD</td>\n",
       "      <td>0.0</td>\n",
       "      <td>2.3</td>\n",
       "      <td>11.96</td>\n",
       "      <td>2019-01-02</td>\n",
       "      <td>2C623730B09</td>\n",
       "      <td>1</td>\n",
       "    </tr>\n",
       "    <tr>\n",
       "      <th>4</th>\n",
       "      <td>2</td>\n",
       "      <td>Premium</td>\n",
       "      <td>Home Delivery - CoD</td>\n",
       "      <td>0.0</td>\n",
       "      <td>2.3</td>\n",
       "      <td>11.96</td>\n",
       "      <td>2019-01-02</td>\n",
       "      <td>2CA6CE1054F</td>\n",
       "      <td>1</td>\n",
       "    </tr>\n",
       "  </tbody>\n",
       "</table>\n",
       "</div>"
      ],
      "text/plain": [
       "   BOX_ID  QUALITY      DELIVERY_OPTION  MILK  MEAT  UNIT_PRICE PURCHASE_DATE  \\\n",
       "0       1  Premium  Home Delivery - CoD   0.0   2.7        9.96    2019-02-04   \n",
       "1       2  Premium  Home Delivery - CoD   0.0   2.3       11.96    2019-01-02   \n",
       "2       2  Premium  Home Delivery - CoD   0.0   2.3       11.96    2019-01-02   \n",
       "3       2  Premium  Home Delivery - CoD   0.0   2.3       11.96    2019-01-02   \n",
       "4       2  Premium  Home Delivery - CoD   0.0   2.3       11.96    2019-01-02   \n",
       "\n",
       "     MAGIC_KEY  BOX_COUNT  \n",
       "0  2C88D36D1FC          1  \n",
       "1  2BF011BDB38          1  \n",
       "2  2CA0EE8F2B3          1  \n",
       "3  2C623730B09          1  \n",
       "4  2CA6CE1054F          1  "
      ]
     },
     "execution_count": 4,
     "metadata": {},
     "output_type": "execute_result"
    }
   ],
   "source": [
    "df = pd.merge(box, purchase, how='inner')\n",
    "df.head()"
   ]
  },
  {
   "cell_type": "code",
   "execution_count": 5,
   "id": "162d31d6",
   "metadata": {},
   "outputs": [
    {
     "data": {
      "text/html": [
       "<div>\n",
       "<style scoped>\n",
       "    .dataframe tbody tr th:only-of-type {\n",
       "        vertical-align: middle;\n",
       "    }\n",
       "\n",
       "    .dataframe tbody tr th {\n",
       "        vertical-align: top;\n",
       "    }\n",
       "\n",
       "    .dataframe thead th {\n",
       "        text-align: right;\n",
       "    }\n",
       "</style>\n",
       "<table border=\"1\" class=\"dataframe\">\n",
       "  <thead>\n",
       "    <tr style=\"text-align: right;\">\n",
       "      <th></th>\n",
       "      <th>BOX_ID</th>\n",
       "      <th>PURCHASE_DATE</th>\n",
       "      <th>MAGIC_KEY</th>\n",
       "      <th>BOX_COUNT</th>\n",
       "    </tr>\n",
       "  </thead>\n",
       "  <tbody>\n",
       "    <tr>\n",
       "      <th>0</th>\n",
       "      <td>1</td>\n",
       "      <td>2019-02-04</td>\n",
       "      <td>2C88D36D1FC</td>\n",
       "      <td>1</td>\n",
       "    </tr>\n",
       "    <tr>\n",
       "      <th>1</th>\n",
       "      <td>2</td>\n",
       "      <td>2019-01-02</td>\n",
       "      <td>2BF011BDB38</td>\n",
       "      <td>1</td>\n",
       "    </tr>\n",
       "    <tr>\n",
       "      <th>2</th>\n",
       "      <td>2</td>\n",
       "      <td>2019-01-02</td>\n",
       "      <td>2CA0EE8F2B3</td>\n",
       "      <td>1</td>\n",
       "    </tr>\n",
       "    <tr>\n",
       "      <th>3</th>\n",
       "      <td>2</td>\n",
       "      <td>2019-01-02</td>\n",
       "      <td>2C623730B09</td>\n",
       "      <td>1</td>\n",
       "    </tr>\n",
       "    <tr>\n",
       "      <th>4</th>\n",
       "      <td>2</td>\n",
       "      <td>2019-01-02</td>\n",
       "      <td>2CA6CE1054F</td>\n",
       "      <td>1</td>\n",
       "    </tr>\n",
       "  </tbody>\n",
       "</table>\n",
       "</div>"
      ],
      "text/plain": [
       "   BOX_ID PURCHASE_DATE    MAGIC_KEY  BOX_COUNT\n",
       "0       1    2019-02-04  2C88D36D1FC          1\n",
       "1       2    2019-01-02  2BF011BDB38          1\n",
       "2       2    2019-01-02  2CA0EE8F2B3          1\n",
       "3       2    2019-01-02  2C623730B09          1\n",
       "4       2    2019-01-02  2CA6CE1054F          1"
      ]
     },
     "execution_count": 5,
     "metadata": {},
     "output_type": "execute_result"
    }
   ],
   "source": [
    "df = df.drop(columns=['QUALITY', 'DELIVERY_OPTION', 'MILK', 'MEAT', 'UNIT_PRICE'])\n",
    "df.head()"
   ]
  },
  {
   "cell_type": "code",
   "execution_count": 6,
   "id": "f9431b00",
   "metadata": {},
   "outputs": [
    {
     "data": {
      "text/plain": [
       "BOX_COUNT\n",
       "1     2453301\n",
       "2        2272\n",
       "3          83\n",
       "4          28\n",
       "6          17\n",
       "5          10\n",
       "7           3\n",
       "9           2\n",
       "19          2\n",
       "11          2\n",
       "8           1\n",
       "10          1\n",
       "13          1\n",
       "Name: count, dtype: int64"
      ]
     },
     "execution_count": 6,
     "metadata": {},
     "output_type": "execute_result"
    }
   ],
   "source": [
    "df['BOX_COUNT'].value_counts()"
   ]
  },
  {
   "cell_type": "code",
   "execution_count": 7,
   "id": "2a26c290",
   "metadata": {},
   "outputs": [],
   "source": [
    "# Drop rows where BOX_COUNT is more than 1\n",
    "df = df[df['BOX_COUNT'] <= 1]"
   ]
  },
  {
   "cell_type": "code",
   "execution_count": 8,
   "id": "fa4e33d5",
   "metadata": {},
   "outputs": [],
   "source": [
    "# Find the most recent purchase date in the dataset\n",
    "max_purchase_date = df['PURCHASE_DATE'].max()\n",
    "\n",
    "# Calculate the last purchase date for each MAGIC_KEY\n",
    "last_purchase_date = df.groupby('MAGIC_KEY')['PURCHASE_DATE'].max()\n",
    "\n",
    "# Days since last purchase from the max purchase date\n",
    "last_purchase_date = max_purchase_date - last_purchase_date\n",
    "\n",
    "# To find the average time window between purchases for each MAGIC_KEY\n",
    "def calculate_average_time(group):\n",
    "    if len(group) > 1:\n",
    "        return (group.max() - group.min()) / (len(group) - 1)\n",
    "    else:\n",
    "        return pd.Timedelta('0 days')\n",
    "\n",
    "average_purchase_window = df.groupby('MAGIC_KEY')['PURCHASE_DATE'].apply(calculate_average_time)\n",
    "\n",
    "# Combine all the results into a single DataFrame\n",
    "result = pd.DataFrame({\n",
    "    'Last Purchase Date': last_purchase_date,\n",
    "    'Days Since Last Purchase': last_purchase_date.dt.days,\n",
    "    'Average Purchase Window (days)': average_purchase_window.dt.days\n",
    "}).reset_index()"
   ]
  },
  {
   "cell_type": "code",
   "execution_count": 11,
   "id": "c09a7aa2",
   "metadata": {},
   "outputs": [
    {
     "data": {
      "text/html": [
       "<div>\n",
       "<style scoped>\n",
       "    .dataframe tbody tr th:only-of-type {\n",
       "        vertical-align: middle;\n",
       "    }\n",
       "\n",
       "    .dataframe tbody tr th {\n",
       "        vertical-align: top;\n",
       "    }\n",
       "\n",
       "    .dataframe thead th {\n",
       "        text-align: right;\n",
       "    }\n",
       "</style>\n",
       "<table border=\"1\" class=\"dataframe\">\n",
       "  <thead>\n",
       "    <tr style=\"text-align: right;\">\n",
       "      <th></th>\n",
       "      <th>MAGIC_KEY</th>\n",
       "      <th>Days Since Last Purchase</th>\n",
       "      <th>Average Purchase Window (days)</th>\n",
       "    </tr>\n",
       "  </thead>\n",
       "  <tbody>\n",
       "    <tr>\n",
       "      <th>0</th>\n",
       "      <td>249670911D8</td>\n",
       "      <td>26</td>\n",
       "      <td>93</td>\n",
       "    </tr>\n",
       "    <tr>\n",
       "      <th>1</th>\n",
       "      <td>249751FC4DD</td>\n",
       "      <td>139</td>\n",
       "      <td>0</td>\n",
       "    </tr>\n",
       "    <tr>\n",
       "      <th>2</th>\n",
       "      <td>24978027606</td>\n",
       "      <td>132</td>\n",
       "      <td>0</td>\n",
       "    </tr>\n",
       "    <tr>\n",
       "      <th>3</th>\n",
       "      <td>24979164422</td>\n",
       "      <td>90</td>\n",
       "      <td>0</td>\n",
       "    </tr>\n",
       "    <tr>\n",
       "      <th>4</th>\n",
       "      <td>2497B8B4FDA</td>\n",
       "      <td>119</td>\n",
       "      <td>29</td>\n",
       "    </tr>\n",
       "  </tbody>\n",
       "</table>\n",
       "</div>"
      ],
      "text/plain": [
       "     MAGIC_KEY  Days Since Last Purchase  Average Purchase Window (days)\n",
       "0  249670911D8                        26                              93\n",
       "1  249751FC4DD                       139                               0\n",
       "2  24978027606                       132                               0\n",
       "3  24979164422                        90                               0\n",
       "4  2497B8B4FDA                       119                              29"
      ]
     },
     "execution_count": 11,
     "metadata": {},
     "output_type": "execute_result"
    }
   ],
   "source": [
    "result = result.drop(columns=['Last Purchase Date'])"
   ]
  },
  {
   "cell_type": "code",
   "execution_count": 12,
   "id": "226380da",
   "metadata": {},
   "outputs": [
    {
     "data": {
      "text/html": [
       "<div>\n",
       "<style scoped>\n",
       "    .dataframe tbody tr th:only-of-type {\n",
       "        vertical-align: middle;\n",
       "    }\n",
       "\n",
       "    .dataframe tbody tr th {\n",
       "        vertical-align: top;\n",
       "    }\n",
       "\n",
       "    .dataframe thead th {\n",
       "        text-align: right;\n",
       "    }\n",
       "</style>\n",
       "<table border=\"1\" class=\"dataframe\">\n",
       "  <thead>\n",
       "    <tr style=\"text-align: right;\">\n",
       "      <th></th>\n",
       "      <th>MAGIC_KEY</th>\n",
       "      <th>Days Since Last Purchase</th>\n",
       "      <th>Average Purchase Window (days)</th>\n",
       "    </tr>\n",
       "  </thead>\n",
       "  <tbody>\n",
       "    <tr>\n",
       "      <th>173709</th>\n",
       "      <td>2909924B2A6</td>\n",
       "      <td>142</td>\n",
       "      <td>0</td>\n",
       "    </tr>\n",
       "    <tr>\n",
       "      <th>859263</th>\n",
       "      <td>2C764545CB8</td>\n",
       "      <td>9</td>\n",
       "      <td>31</td>\n",
       "    </tr>\n",
       "    <tr>\n",
       "      <th>1262263</th>\n",
       "      <td>2CFF2D57481</td>\n",
       "      <td>56</td>\n",
       "      <td>0</td>\n",
       "    </tr>\n",
       "    <tr>\n",
       "      <th>214331</th>\n",
       "      <td>291B6332FDF</td>\n",
       "      <td>14</td>\n",
       "      <td>19</td>\n",
       "    </tr>\n",
       "    <tr>\n",
       "      <th>976552</th>\n",
       "      <td>2CA0397CC96</td>\n",
       "      <td>136</td>\n",
       "      <td>0</td>\n",
       "    </tr>\n",
       "    <tr>\n",
       "      <th>239777</th>\n",
       "      <td>2936B2BAC40</td>\n",
       "      <td>72</td>\n",
       "      <td>70</td>\n",
       "    </tr>\n",
       "    <tr>\n",
       "      <th>420095</th>\n",
       "      <td>2BD866FBABA</td>\n",
       "      <td>4</td>\n",
       "      <td>0</td>\n",
       "    </tr>\n",
       "    <tr>\n",
       "      <th>584944</th>\n",
       "      <td>2C0892A0128</td>\n",
       "      <td>60</td>\n",
       "      <td>0</td>\n",
       "    </tr>\n",
       "    <tr>\n",
       "      <th>981081</th>\n",
       "      <td>2CA1D5FE18E</td>\n",
       "      <td>90</td>\n",
       "      <td>30</td>\n",
       "    </tr>\n",
       "    <tr>\n",
       "      <th>791656</th>\n",
       "      <td>2C5874D89F9</td>\n",
       "      <td>70</td>\n",
       "      <td>0</td>\n",
       "    </tr>\n",
       "  </tbody>\n",
       "</table>\n",
       "</div>"
      ],
      "text/plain": [
       "           MAGIC_KEY  Days Since Last Purchase  Average Purchase Window (days)\n",
       "173709   2909924B2A6                       142                               0\n",
       "859263   2C764545CB8                         9                              31\n",
       "1262263  2CFF2D57481                        56                               0\n",
       "214331   291B6332FDF                        14                              19\n",
       "976552   2CA0397CC96                       136                               0\n",
       "239777   2936B2BAC40                        72                              70\n",
       "420095   2BD866FBABA                         4                               0\n",
       "584944   2C0892A0128                        60                               0\n",
       "981081   2CA1D5FE18E                        90                              30\n",
       "791656   2C5874D89F9                        70                               0"
      ]
     },
     "execution_count": 12,
     "metadata": {},
     "output_type": "execute_result"
    }
   ],
   "source": [
    "result.sample(10)"
   ]
  },
  {
   "cell_type": "code",
   "execution_count": 13,
   "id": "4bb63dd6",
   "metadata": {},
   "outputs": [],
   "source": [
    "# Calculate \"will purchase\" with modified logic for 0-day average window\n",
    "result['will purchase'] = (((result['Average Purchase Window (days)'] - result['Days Since Last Purchase']) <= 15) & (result['Average Purchase Window (days)'] > 0)) | ((result['Days Since Last Purchase'] >= result['Average Purchase Window (days)']) & (result['Average Purchase Window (days)'] > 0))"
   ]
  },
  {
   "cell_type": "code",
   "execution_count": 14,
   "id": "7301b5db",
   "metadata": {},
   "outputs": [
    {
     "data": {
      "text/html": [
       "<div>\n",
       "<style scoped>\n",
       "    .dataframe tbody tr th:only-of-type {\n",
       "        vertical-align: middle;\n",
       "    }\n",
       "\n",
       "    .dataframe tbody tr th {\n",
       "        vertical-align: top;\n",
       "    }\n",
       "\n",
       "    .dataframe thead th {\n",
       "        text-align: right;\n",
       "    }\n",
       "</style>\n",
       "<table border=\"1\" class=\"dataframe\">\n",
       "  <thead>\n",
       "    <tr style=\"text-align: right;\">\n",
       "      <th></th>\n",
       "      <th>MAGIC_KEY</th>\n",
       "      <th>Days Since Last Purchase</th>\n",
       "      <th>Average Purchase Window (days)</th>\n",
       "      <th>will purchase</th>\n",
       "    </tr>\n",
       "  </thead>\n",
       "  <tbody>\n",
       "    <tr>\n",
       "      <th>720050</th>\n",
       "      <td>2C37EF2FD0C</td>\n",
       "      <td>8</td>\n",
       "      <td>0</td>\n",
       "      <td>False</td>\n",
       "    </tr>\n",
       "    <tr>\n",
       "      <th>958017</th>\n",
       "      <td>2C9A8572BBE</td>\n",
       "      <td>17</td>\n",
       "      <td>0</td>\n",
       "      <td>False</td>\n",
       "    </tr>\n",
       "    <tr>\n",
       "      <th>1145089</th>\n",
       "      <td>2CD704317B1</td>\n",
       "      <td>31</td>\n",
       "      <td>0</td>\n",
       "      <td>False</td>\n",
       "    </tr>\n",
       "    <tr>\n",
       "      <th>380648</th>\n",
       "      <td>2BCE03241AC</td>\n",
       "      <td>2</td>\n",
       "      <td>29</td>\n",
       "      <td>False</td>\n",
       "    </tr>\n",
       "    <tr>\n",
       "      <th>543127</th>\n",
       "      <td>2BFABCF6A3C</td>\n",
       "      <td>67</td>\n",
       "      <td>28</td>\n",
       "      <td>True</td>\n",
       "    </tr>\n",
       "    <tr>\n",
       "      <th>897079</th>\n",
       "      <td>2C8515D5E39</td>\n",
       "      <td>65</td>\n",
       "      <td>47</td>\n",
       "      <td>True</td>\n",
       "    </tr>\n",
       "    <tr>\n",
       "      <th>1212593</th>\n",
       "      <td>2CEAD680182</td>\n",
       "      <td>65</td>\n",
       "      <td>58</td>\n",
       "      <td>True</td>\n",
       "    </tr>\n",
       "    <tr>\n",
       "      <th>1044294</th>\n",
       "      <td>2CB67EA0847</td>\n",
       "      <td>55</td>\n",
       "      <td>31</td>\n",
       "      <td>True</td>\n",
       "    </tr>\n",
       "    <tr>\n",
       "      <th>209324</th>\n",
       "      <td>29164D9A875</td>\n",
       "      <td>17</td>\n",
       "      <td>0</td>\n",
       "      <td>False</td>\n",
       "    </tr>\n",
       "    <tr>\n",
       "      <th>493304</th>\n",
       "      <td>2BEAC6A72FB</td>\n",
       "      <td>45</td>\n",
       "      <td>51</td>\n",
       "      <td>True</td>\n",
       "    </tr>\n",
       "  </tbody>\n",
       "</table>\n",
       "</div>"
      ],
      "text/plain": [
       "           MAGIC_KEY  Days Since Last Purchase  \\\n",
       "720050   2C37EF2FD0C                         8   \n",
       "958017   2C9A8572BBE                        17   \n",
       "1145089  2CD704317B1                        31   \n",
       "380648   2BCE03241AC                         2   \n",
       "543127   2BFABCF6A3C                        67   \n",
       "897079   2C8515D5E39                        65   \n",
       "1212593  2CEAD680182                        65   \n",
       "1044294  2CB67EA0847                        55   \n",
       "209324   29164D9A875                        17   \n",
       "493304   2BEAC6A72FB                        45   \n",
       "\n",
       "         Average Purchase Window (days)  will purchase  \n",
       "720050                                0          False  \n",
       "958017                                0          False  \n",
       "1145089                               0          False  \n",
       "380648                               29          False  \n",
       "543127                               28           True  \n",
       "897079                               47           True  \n",
       "1212593                              58           True  \n",
       "1044294                              31           True  \n",
       "209324                                0          False  \n",
       "493304                               51           True  "
      ]
     },
     "execution_count": 14,
     "metadata": {},
     "output_type": "execute_result"
    }
   ],
   "source": [
    "result.sample(10)"
   ]
  },
  {
   "cell_type": "code",
   "execution_count": 15,
   "id": "5c9c9223",
   "metadata": {},
   "outputs": [
    {
     "data": {
      "text/plain": [
       "will purchase\n",
       "False    981279\n",
       "True     292185\n",
       "Name: count, dtype: int64"
      ]
     },
     "execution_count": 15,
     "metadata": {},
     "output_type": "execute_result"
    }
   ],
   "source": [
    "result['will purchase'].value_counts()"
   ]
  },
  {
   "cell_type": "code",
   "execution_count": 16,
   "id": "929711b0",
   "metadata": {},
   "outputs": [],
   "source": [
    "# Convert True/False in 'will purchase' to 'Y'/'N'\n",
    "result['will purchase'] = result['will purchase'].map({True: 'Y', False: 'N'})"
   ]
  },
  {
   "cell_type": "code",
   "execution_count": 17,
   "id": "c8b7928f",
   "metadata": {},
   "outputs": [
    {
     "data": {
      "text/plain": [
       "will purchase\n",
       "N    981279\n",
       "Y    292185\n",
       "Name: count, dtype: int64"
      ]
     },
     "execution_count": 17,
     "metadata": {},
     "output_type": "execute_result"
    }
   ],
   "source": [
    "result['will purchase'].value_counts()"
   ]
  },
  {
   "cell_type": "code",
   "execution_count": 19,
   "id": "2f3b3bcf",
   "metadata": {},
   "outputs": [
    {
     "data": {
      "text/plain": [
       "0"
      ]
     },
     "execution_count": 19,
     "metadata": {},
     "output_type": "execute_result"
    }
   ],
   "source": [
    "result['MAGIC_KEY'].duplicated().sum()"
   ]
  },
  {
   "cell_type": "code",
   "execution_count": 20,
   "id": "ced0f601",
   "metadata": {},
   "outputs": [],
   "source": [
    "problem = pd.read_csv(r'C:\\Users\\Admin\\Desktop\\Datathon\\Problem 1\\problem_1.csv')"
   ]
  },
  {
   "cell_type": "code",
   "execution_count": 21,
   "id": "fb453ca3",
   "metadata": {},
   "outputs": [],
   "source": [
    "merged_data = problem.merge(result, on='MAGIC_KEY', how='left')"
   ]
  },
  {
   "cell_type": "code",
   "execution_count": 22,
   "id": "5f78c7b1",
   "metadata": {},
   "outputs": [
    {
     "data": {
      "text/html": [
       "<div>\n",
       "<style scoped>\n",
       "    .dataframe tbody tr th:only-of-type {\n",
       "        vertical-align: middle;\n",
       "    }\n",
       "\n",
       "    .dataframe tbody tr th {\n",
       "        vertical-align: top;\n",
       "    }\n",
       "\n",
       "    .dataframe thead th {\n",
       "        text-align: right;\n",
       "    }\n",
       "</style>\n",
       "<table border=\"1\" class=\"dataframe\">\n",
       "  <thead>\n",
       "    <tr style=\"text-align: right;\">\n",
       "      <th></th>\n",
       "      <th>MAGIC_KEY</th>\n",
       "      <th>Days Since Last Purchase</th>\n",
       "      <th>Average Purchase Window (days)</th>\n",
       "      <th>will purchase</th>\n",
       "    </tr>\n",
       "  </thead>\n",
       "  <tbody>\n",
       "    <tr>\n",
       "      <th>0</th>\n",
       "      <td>28D5BB06356</td>\n",
       "      <td>2.0</td>\n",
       "      <td>32.0</td>\n",
       "      <td>N</td>\n",
       "    </tr>\n",
       "    <tr>\n",
       "      <th>1</th>\n",
       "      <td>293BEAB4E98</td>\n",
       "      <td>20.0</td>\n",
       "      <td>41.0</td>\n",
       "      <td>N</td>\n",
       "    </tr>\n",
       "    <tr>\n",
       "      <th>2</th>\n",
       "      <td>2962EE8065C</td>\n",
       "      <td>11.0</td>\n",
       "      <td>26.0</td>\n",
       "      <td>Y</td>\n",
       "    </tr>\n",
       "    <tr>\n",
       "      <th>3</th>\n",
       "      <td>2957BE29EA9</td>\n",
       "      <td>56.0</td>\n",
       "      <td>29.0</td>\n",
       "      <td>Y</td>\n",
       "    </tr>\n",
       "    <tr>\n",
       "      <th>4</th>\n",
       "      <td>28E351A0745</td>\n",
       "      <td>34.0</td>\n",
       "      <td>29.0</td>\n",
       "      <td>Y</td>\n",
       "    </tr>\n",
       "  </tbody>\n",
       "</table>\n",
       "</div>"
      ],
      "text/plain": [
       "     MAGIC_KEY  Days Since Last Purchase  Average Purchase Window (days)  \\\n",
       "0  28D5BB06356                       2.0                            32.0   \n",
       "1  293BEAB4E98                      20.0                            41.0   \n",
       "2  2962EE8065C                      11.0                            26.0   \n",
       "3  2957BE29EA9                      56.0                            29.0   \n",
       "4  28E351A0745                      34.0                            29.0   \n",
       "\n",
       "  will purchase  \n",
       "0             N  \n",
       "1             N  \n",
       "2             Y  \n",
       "3             Y  \n",
       "4             Y  "
      ]
     },
     "execution_count": 22,
     "metadata": {},
     "output_type": "execute_result"
    }
   ],
   "source": [
    "merged_data.head()"
   ]
  },
  {
   "cell_type": "code",
   "execution_count": 23,
   "id": "e1884a10",
   "metadata": {},
   "outputs": [],
   "source": [
    "merged_data = merged_data.drop(columns=['Days Since Last Purchase', 'Average Purchase Window (days)'])"
   ]
  },
  {
   "cell_type": "code",
   "execution_count": 25,
   "id": "de58d09a",
   "metadata": {},
   "outputs": [],
   "source": [
    "# Rename 'will purchase' column to 'PURCHASE'\n",
    "merged_data.rename(columns={'will purchase': 'PURCHASE'}, inplace=True)"
   ]
  },
  {
   "cell_type": "code",
   "execution_count": 26,
   "id": "ab13f93b",
   "metadata": {},
   "outputs": [
    {
     "data": {
      "text/html": [
       "<div>\n",
       "<style scoped>\n",
       "    .dataframe tbody tr th:only-of-type {\n",
       "        vertical-align: middle;\n",
       "    }\n",
       "\n",
       "    .dataframe tbody tr th {\n",
       "        vertical-align: top;\n",
       "    }\n",
       "\n",
       "    .dataframe thead th {\n",
       "        text-align: right;\n",
       "    }\n",
       "</style>\n",
       "<table border=\"1\" class=\"dataframe\">\n",
       "  <thead>\n",
       "    <tr style=\"text-align: right;\">\n",
       "      <th></th>\n",
       "      <th>MAGIC_KEY</th>\n",
       "      <th>PURCHASE</th>\n",
       "    </tr>\n",
       "  </thead>\n",
       "  <tbody>\n",
       "    <tr>\n",
       "      <th>0</th>\n",
       "      <td>28D5BB06356</td>\n",
       "      <td>N</td>\n",
       "    </tr>\n",
       "    <tr>\n",
       "      <th>1</th>\n",
       "      <td>293BEAB4E98</td>\n",
       "      <td>N</td>\n",
       "    </tr>\n",
       "    <tr>\n",
       "      <th>2</th>\n",
       "      <td>2962EE8065C</td>\n",
       "      <td>Y</td>\n",
       "    </tr>\n",
       "    <tr>\n",
       "      <th>3</th>\n",
       "      <td>2957BE29EA9</td>\n",
       "      <td>Y</td>\n",
       "    </tr>\n",
       "    <tr>\n",
       "      <th>4</th>\n",
       "      <td>28E351A0745</td>\n",
       "      <td>Y</td>\n",
       "    </tr>\n",
       "  </tbody>\n",
       "</table>\n",
       "</div>"
      ],
      "text/plain": [
       "     MAGIC_KEY PURCHASE\n",
       "0  28D5BB06356        N\n",
       "1  293BEAB4E98        N\n",
       "2  2962EE8065C        Y\n",
       "3  2957BE29EA9        Y\n",
       "4  28E351A0745        Y"
      ]
     },
     "execution_count": 26,
     "metadata": {},
     "output_type": "execute_result"
    }
   ],
   "source": [
    "merged_data.head()"
   ]
  },
  {
   "cell_type": "code",
   "execution_count": 27,
   "id": "e04db3f5",
   "metadata": {},
   "outputs": [],
   "source": [
    "# Save the DataFrame\n",
    "merged_data.to_csv('submission.csv', index=False)"
   ]
  },
  {
   "cell_type": "code",
   "execution_count": null,
   "id": "6bb9a6f4",
   "metadata": {},
   "outputs": [],
   "source": []
  }
 ],
 "metadata": {
  "kernelspec": {
   "display_name": "Python 3 (ipykernel)",
   "language": "python",
   "name": "python3"
  },
  "language_info": {
   "codemirror_mode": {
    "name": "ipython",
    "version": 3
   },
   "file_extension": ".py",
   "mimetype": "text/x-python",
   "name": "python",
   "nbconvert_exporter": "python",
   "pygments_lexer": "ipython3",
   "version": "3.9.15"
  }
 },
 "nbformat": 4,
 "nbformat_minor": 5
}
